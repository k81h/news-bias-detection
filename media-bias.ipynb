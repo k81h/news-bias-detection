{
 "cells": [
  {
   "cell_type": "markdown",
   "id": "147727d6-d3f4-404f-b2cb-9e9d0e771d61",
   "metadata": {},
   "source": [
    "# Step 1: Basic Data Exploration"
   ]
  },
  {
   "cell_type": "code",
   "execution_count": 3,
   "id": "8b0a1a01-4b19-4d9d-9974-c8e4cfda8a38",
   "metadata": {},
   "outputs": [
    {
     "data": {
      "text/plain": [
       "(37554, 12)"
      ]
     },
     "execution_count": 3,
     "metadata": {},
     "output_type": "execute_result"
    }
   ],
   "source": [
    "import pandas as pd\n",
    "\n",
    "data = pd.read_csv('news_bias.csv')\n",
    "data.shape"
   ]
  },
  {
   "cell_type": "code",
   "execution_count": 4,
   "id": "b80295d4-67eb-49c6-948d-dbeeba0955f7",
   "metadata": {},
   "outputs": [
    {
     "data": {
      "text/plain": [
       "(10000, 12)"
      ]
     },
     "execution_count": 4,
     "metadata": {},
     "output_type": "execute_result"
    }
   ],
   "source": [
    "data = data.head(10000)\n",
    "data.shape"
   ]
  },
  {
   "cell_type": "code",
   "execution_count": 5,
   "id": "e61cab92-03d8-4102-b90b-c5a24c1d9666",
   "metadata": {},
   "outputs": [
    {
     "name": "stdout",
     "output_type": "stream",
     "text": [
      "           topic                 source  bias  \\\n",
      "0      terrorism  New York Times - News     0   \n",
      "1  supreme_court                    Vox     0   \n",
      "2      education             Ezra Klein     0   \n",
      "3       us_house         Breitbart News     2   \n",
      "4    white_house    Guest Writer - Left     0   \n",
      "\n",
      "                                                 url  \\\n",
      "0  http://www.nytimes.com/2016/09/20/nyregion/ahm...   \n",
      "1  https://www.vox.com/policy-and-politics/2018/9...   \n",
      "2  http://www.npr.org/blogs/thetwo-way/2014/05/06...   \n",
      "3  http://www.breitbart.com/big-government/2017/0...   \n",
      "4  https://www.cnn.com/2019/07/11/politics/donald...   \n",
      "\n",
      "                                               title        date  \\\n",
      "0  Bomb Suspect Changed After Trip Abroad, Friend...  2016-09-20   \n",
      "1  Why Susan Collins claims she’s being bribed ov...  2018-09-12   \n",
      "2  Poll: Prestigious Colleges Won't Make You Happ...  2014-05-06   \n",
      "3  Paul Ryan Reportedly Says No Chance for Border...  2017-09-12   \n",
      "4  OPINION: Trump seeking change of legal fortune...  2019-07-11   \n",
      "\n",
      "                                             authors  \\\n",
      "0                                   N. R. Kleinfield   \n",
      "1  Emily Stewart, Terry Nguyen, Rebecca Jennings,...   \n",
      "2                                      Anya Kamenetz   \n",
      "3                                          Ian Mason   \n",
      "4                         Analysis Stephen Collinson   \n",
      "\n",
      "                                             content  \\\n",
      "0  Besides his most recent trip to Quetta , Mr. R...   \n",
      "1  Is Maine Republican Sen. Susan Collins being b...   \n",
      "2  Poll : Prestigious Colleges Wo n't Make You Ha...   \n",
      "3  House Speaker Paul Ryan , at a private dinner ...   \n",
      "4  ( CNN ) President Donald Trump has reason to h...   \n",
      "\n",
      "                                    content_original         source_url  \\\n",
      "0  Besides his most recent trip to Quetta, Mr. Ra...    www.nytimes.com   \n",
      "1  Is Maine Republican Sen. Susan Collins being b...        www.vox.com   \n",
      "2  Poll: Prestigious Colleges Won't Make You Happ...        www.npr.org   \n",
      "3  House Speaker Paul Ryan, at a private dinner e...  www.breitbart.com   \n",
      "4  (CNN) President Donald Trump has reason to hop...        www.cnn.com   \n",
      "\n",
      "  bias_text                ID  \n",
      "0      left  004Gt3gcsotuiYmz  \n",
      "1      left  00eP4XD3VdMmHITE  \n",
      "2      left  00FTGIZEd6B8zQ4U  \n",
      "3     right  00HGGqBRf1kzPRlg  \n",
      "4      left  00IzI5ynahBVtC9l  \n",
      "topic                  0\n",
      "source                 0\n",
      "bias                   0\n",
      "url                    0\n",
      "title                  0\n",
      "date                1131\n",
      "authors             2541\n",
      "content                0\n",
      "content_original       0\n",
      "source_url             0\n",
      "bias_text              0\n",
      "ID                     0\n",
      "dtype: int64\n",
      "bias\n",
      "2    3679\n",
      "0    3444\n",
      "1    2877\n",
      "Name: count, dtype: int64\n"
     ]
    }
   ],
   "source": [
    "print(data.head())\n",
    "\n",
    "# Check for missing values\n",
    "print(data.isnull().sum())\n",
    "\n",
    "# Check the distribution of 'bias' column (0, 1, 2)\n",
    "print(data['bias'].value_counts())"
   ]
  },
  {
   "cell_type": "code",
   "execution_count": 40,
   "id": "f693702b-ba06-40e4-b1e0-865ee73710de",
   "metadata": {},
   "outputs": [
    {
     "data": {
      "image/png": "[encoded data removed]",
      "text/plain": [
       "<Figure size 400x400 with 1 Axes>"
      ]
     },
     "metadata": {},
     "output_type": "display_data"
    }
   ],
   "source": [
    "import seaborn as sns\n",
    "import matplotlib.pyplot as plt\n",
    "\n",
    "# Plot the distribution of the 'bias' column\n",
    "plt.figure(figsize=(4, 4))\n",
    "sns.countplot(x='bias', data=data)\n",
    "\n",
    "# Add labels and title\n",
    "plt.xlabel('Bias')\n",
    "plt.ylabel('Count')\n",
    "plt.title('Distribution of Bias (0, 1, 2)')\n",
    "plt.show()"
   ]
  },
  {
   "cell_type": "markdown",
   "id": "17248425-db25-4ad6-9495-8a1ace3d4ae3",
   "metadata": {},
   "source": [
    "# Step 2: Text Preprocessing"
   ]
  },
  {
   "cell_type": "code",
   "execution_count": 6,
   "id": "eeb1c633-61ff-4b41-97b0-1ee8c3412744",
   "metadata": {},
   "outputs": [
    {
     "name": "stdout",
     "output_type": "stream",
     "text": [
      "                                             content  \\\n",
      "0  Besides his most recent trip to Quetta , Mr. R...   \n",
      "1  Is Maine Republican Sen. Susan Collins being b...   \n",
      "2  Poll : Prestigious Colleges Wo n't Make You Ha...   \n",
      "3  House Speaker Paul Ryan , at a private dinner ...   \n",
      "4  ( CNN ) President Donald Trump has reason to h...   \n",
      "\n",
      "                                     cleaned_content  \n",
      "0  besides recent trip quetta mr rahami visited k...  \n",
      "1  maine republican sen susan collins bribed vote...  \n",
      "2  poll prestigious college wo nt make happier li...  \n",
      "3  house speaker paul ryan private dinner earlier...  \n",
      "4  cnn president donald trump reason hope luck ch...  \n"
     ]
    }
   ],
   "source": [
    "import nltk\n",
    "\n",
    "# nltk.download('punkt')\n",
    "# nltk.download('stopwords')\n",
    "# nltk.download('wordnet')\n",
    "\n",
    "import re\n",
    "from nltk.corpus import stopwords\n",
    "from nltk.tokenize import word_tokenize\n",
    "from nltk.stem import WordNetLemmatizer\n",
    "\n",
    "# Initialize the lemmatizer\n",
    "lemmatizer = WordNetLemmatizer()\n",
    "stop_words = set(stopwords.words('english'))\n",
    "\n",
    "# Function to clean and preprocess text\n",
    "def preprocess_text(text):\n",
    "    # Remove URLs\n",
    "    text = re.sub(r'http\\S+', '', text)\n",
    "    \n",
    "    # Remove non-alphabetical characters\n",
    "    text = re.sub(r'[^a-zA-Z\\s]', '', text)\n",
    "    \n",
    "    # Tokenize the text\n",
    "    tokens = word_tokenize(text.lower())\n",
    "    \n",
    "    # Remove stopwords and lemmatize\n",
    "    tokens = [lemmatizer.lemmatize(token) for token in tokens if token not in stop_words]\n",
    "    \n",
    "    # Join tokens back into a single string\n",
    "    return ' '.join(tokens)\n",
    "\n",
    "# Apply text preprocessing to the 'content' column\n",
    "data['cleaned_content'] = data['content'].apply(preprocess_text)\n",
    "\n",
    "# View the cleaned content\n",
    "print(data[['content', 'cleaned_content']].head())\n"
   ]
  },
  {
   "cell_type": "markdown",
   "id": "43e82907-0a60-46b6-be50-5155ec62d544",
   "metadata": {},
   "source": [
    "# Step 3: Feature Extraction Using TF-IDF"
   ]
  },
  {
   "cell_type": "code",
   "execution_count": 7,
   "id": "dfd15e34-a51b-4e10-865f-1afc62ccc804",
   "metadata": {},
   "outputs": [
    {
     "name": "stdout",
     "output_type": "stream",
     "text": [
      "(10000, 5000)\n"
     ]
    }
   ],
   "source": [
    "from sklearn.feature_extraction.text import TfidfVectorizer\n",
    "\n",
    "# Initialize the TF-IDF vectorizer\n",
    "tfidf = TfidfVectorizer(max_features=5000, ngram_range=(1,2))\n",
    "\n",
    "# Fit the vectorizer on the cleaned content and transform the text data into TF-IDF features\n",
    "X = tfidf.fit_transform(data['cleaned_content'])\n",
    "\n",
    "# Check the shape of the transformed data\n",
    "print(X.shape)\n"
   ]
  },
  {
   "cell_type": "code",
   "execution_count": 8,
   "id": "f66850e2-19d5-46ac-b6fd-eb1ccd0b1f43",
   "metadata": {},
   "outputs": [],
   "source": [
    "# Define the target variable (y) as the 'bias' column\n",
    "y = data['bias']\n"
   ]
  },
  {
   "cell_type": "code",
   "execution_count": 9,
   "id": "3d31aec4-a614-47f8-b672-91c5c1408dad",
   "metadata": {},
   "outputs": [
    {
     "name": "stdout",
     "output_type": "stream",
     "text": [
      "(8000, 5000) (2000, 5000)\n"
     ]
    }
   ],
   "source": [
    "from sklearn.model_selection import train_test_split\n",
    "\n",
    "# Split the data into 80% training and 20% test sets\n",
    "X_train, X_test, y_train, y_test = train_test_split(X, y, test_size=0.2, random_state=42)\n",
    "\n",
    "# Check the size of the train and test sets\n",
    "print(X_train.shape, X_test.shape)\n"
   ]
  },
  {
   "cell_type": "markdown",
   "id": "3abaf774-1230-478e-814a-e91955495192",
   "metadata": {},
   "source": [
    "# Step 4: Model Building and Training"
   ]
  },
  {
   "cell_type": "code",
   "execution_count": 17,
   "id": "5ed27180-f7f9-4010-a8a1-bc87bbd37688",
   "metadata": {},
   "outputs": [
    {
     "name": "stdout",
     "output_type": "stream",
     "text": [
      "Training Accuracy: 0.82\n"
     ]
    }
   ],
   "source": [
    "from sklearn.linear_model import LogisticRegression\n",
    "\n",
    "# Initialize the Logistic Regression model\n",
    "model = LogisticRegression(solver='saga', max_iter=500)\n",
    "\n",
    "# Train the model on the training data\n",
    "model.fit(X_train, y_train)\n",
    "\n",
    "# Check the model's performance on the training data\n",
    "train_accuracy = model.score(X_train, y_train)\n",
    "print(f\"Training Accuracy: {train_accuracy:.2f}\")\n"
   ]
  },
  {
   "cell_type": "code",
   "execution_count": 30,
   "id": "90f75bf3-8368-4487-bc94-7baccc6891ff",
   "metadata": {},
   "outputs": [
    {
     "name": "stdout",
     "output_type": "stream",
     "text": [
      "Test Accuracy: 0.64\n"
     ]
    }
   ],
   "source": [
    "# Evaluate the model on the test data\n",
    "test_accuracy = model.score(X_test, y_test)\n",
    "print(f\"Test Accuracy: {test_accuracy:.2f}\")\n",
    "\n",
    "# Make predictions on the test data\n",
    "y_pred = model.predict(X_test)\n"
   ]
  },
  {
   "cell_type": "code",
   "execution_count": 31,
   "id": "a78f444e-28b4-4f5b-9acc-b216808f8977",
   "metadata": {},
   "outputs": [
    {
     "name": "stdout",
     "output_type": "stream",
     "text": [
      "              precision    recall  f1-score   support\n",
      "\n",
      "        Left       0.61      0.62      0.62       650\n",
      "      Center       0.68      0.62      0.65       622\n",
      "       Right       0.63      0.66      0.64       728\n",
      "\n",
      "    accuracy                           0.64      2000\n",
      "   macro avg       0.64      0.64      0.64      2000\n",
      "weighted avg       0.64      0.64      0.64      2000\n",
      "\n"
     ]
    }
   ],
   "source": [
    "from sklearn.metrics import classification_report\n",
    "\n",
    "# Generate a classification report\n",
    "print(classification_report(y_test, y_pred, target_names=['Left', 'Center', 'Right']))\n"
   ]
  },
  {
   "cell_type": "code",
   "execution_count": 32,
   "id": "12011792-5cc3-4c0f-b88f-0ddd53e6cdd0",
   "metadata": {},
   "outputs": [
    {
     "data": {
      "text/plain": [
       "<sklearn.metrics._plot.confusion_matrix.ConfusionMatrixDisplay at 0x1c32f6ab650>"
      ]
     },
     "execution_count": 32,
     "metadata": {},
     "output_type": "execute_result"
    },
    {
     "data": {
      "image/png": "[encoded data removed]",
      "text/plain": [
       "<Figure size 640x480 with 2 Axes>"
      ]
     },
     "metadata": {},
     "output_type": "display_data"
    }
   ],
   "source": [
    "from sklearn import metrics\n",
    "from sklearn.metrics import confusion_matrix\n",
    "\n",
    "cm = confusion_matrix(y_test, y_pred)\n",
    "\n",
    "cm_display = metrics.ConfusionMatrixDisplay(confusion_matrix = cm) \n",
    "cm_display.plot()\n"
   ]
  },
  {
   "cell_type": "markdown",
   "id": "4b707867-f4f7-412e-960d-9aa19ccf1aee",
   "metadata": {},
   "source": [
    "# Step 5: Experimenting with Other Models"
   ]
  },
  {
   "cell_type": "code",
   "execution_count": 15,
   "id": "3d68ea58-eadf-43b2-80e5-05193d27d395",
   "metadata": {},
   "outputs": [
    {
     "name": "stdout",
     "output_type": "stream",
     "text": [
      "Results for Logistic Regression:\n",
      "Accuracy: 0.6365, Precision: 0.6378, Recall: 0.6365, F1 Score: 0.6366\n",
      "\n",
      "Results for Multinomial Naive Bayes:\n",
      "Accuracy: 0.5375, Precision: 0.5422, Recall: 0.5375, F1 Score: 0.5363\n",
      "\n",
      "Results for Gaussian Naive Bayes:\n",
      "Accuracy: 0.5305, Precision: 0.5332, Recall: 0.5305, F1 Score: 0.5303\n",
      "\n",
      "Results for Support Vector Machine:\n",
      "Accuracy: 0.6205, Precision: 0.6235, Recall: 0.6205, F1 Score: 0.6194\n",
      "\n",
      "Results for Random Forest:\n",
      "Accuracy: 0.6285, Precision: 0.6611, Recall: 0.6285, F1 Score: 0.6249\n",
      "\n",
      "Results for Gradient Boosting:\n",
      "Accuracy: 0.6755, Precision: 0.6886, Recall: 0.6755, F1 Score: 0.6752\n",
      "\n",
      "Results for Decision Tree:\n",
      "Accuracy: 0.5475, Precision: 0.5478, Recall: 0.5475, F1 Score: 0.5476\n",
      "\n",
      "Results for K-Nearest Neighbors:\n",
      "Accuracy: 0.4325, Precision: 0.4589, Recall: 0.4325, F1 Score: 0.4221\n",
      "\n",
      "\n",
      "Final Model Performance Comparison (sorted by Accuracy):\n",
      "                     Model  Accuracy  Precision  Recall  F1 Score\n",
      "5        Gradient Boosting    0.6755   0.688623  0.6755  0.675243\n",
      "0      Logistic Regression    0.6365   0.637813  0.6365  0.636612\n",
      "4            Random Forest    0.6285   0.661144  0.6285  0.624928\n",
      "3   Support Vector Machine    0.6205   0.623506  0.6205  0.619351\n",
      "6            Decision Tree    0.5475   0.547839  0.5475  0.547563\n",
      "1  Multinomial Naive Bayes    0.5375   0.542187  0.5375  0.536313\n",
      "2     Gaussian Naive Bayes    0.5305   0.533195  0.5305  0.530255\n",
      "7      K-Nearest Neighbors    0.4325   0.458930  0.4325  0.422147\n"
     ]
    }
   ],
   "source": [
    "from sklearn.linear_model import LogisticRegression\n",
    "from sklearn.naive_bayes import MultinomialNB, GaussianNB\n",
    "from sklearn.svm import SVC\n",
    "from sklearn.ensemble import RandomForestClassifier, GradientBoostingClassifier\n",
    "from sklearn.tree import DecisionTreeClassifier\n",
    "from sklearn.neighbors import KNeighborsClassifier\n",
    "from sklearn.metrics import accuracy_score, f1_score, precision_score, recall_score\n",
    "\n",
    "results = []\n",
    "\n",
    "def evaluate_model(model, model_name):\n",
    "    if model_name == 'Gaussian Naive Bayes':\n",
    "        # GaussianNB requires dense matrix input\n",
    "        X_train_dense = X_train.toarray()\n",
    "        X_test_dense = X_test.toarray()\n",
    "        model.fit(X_train_dense, y_train)\n",
    "        y_pred = model.predict(X_test_dense)\n",
    "    else:\n",
    "        model.fit(X_train, y_train)\n",
    "        y_pred = model.predict(X_test)\n",
    "    \n",
    "    # Calculate metrics\n",
    "    accuracy = accuracy_score(y_test, y_pred)\n",
    "    precision = precision_score(y_test, y_pred, average='weighted')\n",
    "    recall = recall_score(y_test, y_pred, average='weighted')\n",
    "    f1 = f1_score(y_test, y_pred, average='weighted')\n",
    "    \n",
    "    # Append results\n",
    "    results.append({\n",
    "        'Model': model_name,\n",
    "        'Accuracy': accuracy,\n",
    "        'Precision': precision,\n",
    "        'Recall': recall,\n",
    "        'F1 Score': f1\n",
    "    })\n",
    "    \n",
    "    # Print results immediately after training\n",
    "    print(f\"Results for {model_name}:\")\n",
    "    print(f\"Accuracy: {accuracy:.4f}, Precision: {precision:.4f}, Recall: {recall:.4f}, F1 Score: {f1:.4f}\\n\")\n",
    "\n",
    "# Step 3: Define and train models\n",
    "models = {\n",
    "    'Logistic Regression': LogisticRegression(max_iter=1000),\n",
    "    'Multinomial Naive Bayes': MultinomialNB(),\n",
    "    'Gaussian Naive Bayes': GaussianNB(),\n",
    "    'Support Vector Machine': SVC(),\n",
    "    'Random Forest': RandomForestClassifier(),\n",
    "    'Gradient Boosting': GradientBoostingClassifier(),\n",
    "    'Decision Tree': DecisionTreeClassifier(),\n",
    "    'K-Nearest Neighbors': KNeighborsClassifier()\n",
    "}\n",
    "\n",
    "# Train and evaluate each model\n",
    "for model_name, model in models.items():\n",
    "    evaluate_model(model, model_name)\n",
    "\n",
    "# Step 4: Display sorted results at the end\n",
    "results_df = pd.DataFrame(results)\n",
    "results_df = results_df.sort_values(by='Accuracy', ascending=False)\n",
    "print(\"\\nFinal Model Performance Comparison (sorted by Accuracy):\")\n",
    "print(results_df)\n"
   ]
  },
  {
   "cell_type": "markdown",
   "id": "e03c57e7-6002-4f5f-9db5-2622c90f0266",
   "metadata": {},
   "source": [
    "# Step 6: Saving the trained model"
   ]
  },
  {
   "cell_type": "code",
   "execution_count": 42,
   "id": "46d24441-b14d-4555-8bd2-b7eaaeacd781",
   "metadata": {},
   "outputs": [
    {
     "name": "stdout",
     "output_type": "stream",
     "text": [
      "The best model is: Gradient Boosting\n",
      "Model and TF-IDF vectorizer have been saved.\n"
     ]
    }
   ],
   "source": [
    "import joblib\n",
    "\n",
    "# Identify the best model (highest accuracy)\n",
    "results_df = pd.DataFrame(results)\n",
    "results_df = results_df.sort_values(by='Accuracy', ascending=False)\n",
    "\n",
    "best_model_name = results_df.iloc[0]['Model']\n",
    "best_model = models[best_model_name]\n",
    "print(f\"The best model is: {best_model_name}\")\n",
    "\n",
    "# Train the best model on the entire training data\n",
    "best_model.fit(X_train, y_train)\n",
    "\n",
    "# Save the best model and the TF-IDF vectorizer\n",
    "joblib.dump(best_model, 'news_bias_model.pkl')  # Save the trained model\n",
    "joblib.dump(tfidf, 'tfidf_vectorizer.pkl')      # Save the TF-IDF vectorizer\n",
    "\n",
    "print(\"Model and TF-IDF vectorizer have been saved.\")\n"
   ]
  },
  {
   "cell_type": "code",
   "execution_count": null,
   "id": "a97c9fdc-23db-488e-bd73-9ed7ac8765db",
   "metadata": {},
   "outputs": [],
   "source": []
  }
 ],
 "metadata": {
  "kernelspec": {
   "display_name": "Python 3 (ipykernel)",
   "language": "python",
   "name": "python3"
  },
  "language_info": {
   "codemirror_mode": {
    "name": "ipython",
    "version": 3
   },
   "file_extension": ".py",
   "mimetype": "text/x-python",
   "name": "python",
   "nbconvert_exporter": "python",
   "pygments_lexer": "ipython3",
   "version": "3.11.3"
  }
 },
 "nbformat": 4,
 "nbformat_minor": 5
}
